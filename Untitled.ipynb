{
 "cells": [
  {
   "cell_type": "code",
   "execution_count": null,
   "id": "9c846839-8d19-489b-bb15-73eb3af0c592",
   "metadata": {
    "scrolled": true
   },
   "outputs": [
    {
     "ename": "",
     "evalue": "",
     "output_type": "error",
     "traceback": [
      "\u001b[1;31mRunning cells with 'Python 3.12.3' requires the ipykernel package.\n",
      "\u001b[1;31mInstall 'ipykernel' into the Python environment. \n",
      "\u001b[1;31mCommand: '/bin/python3 -m pip install ipykernel -U --user --force-reinstall'"
     ]
    }
   ],
   "source": [
    "import pandas as pd\n",
    "\n",
    "df = pd.read_csv('dataset-diabete-68e2810ab0d7e949117525.csv' , index_col = 0)\n",
    "df"
   ]
  },
  {
   "cell_type": "code",
   "execution_count": null,
   "id": "4d519fdf-04a2-479f-af11-66b1c4a18869",
   "metadata": {},
   "outputs": [],
   "source": []
  },
  {
   "cell_type": "code",
   "execution_count": null,
   "id": "45e1ab1d-b505-4e3b-b5d0-5e04eb173418",
   "metadata": {},
   "outputs": [],
   "source": [
    "df.describe()"
   ]
  },
  {
   "cell_type": "code",
   "execution_count": null,
   "id": "0d61064e-330b-43ec-b7c0-d1bebb77df1e",
   "metadata": {
    "scrolled": true
   },
   "outputs": [],
   "source": [
    "df.isnull().sum()"
   ]
  },
  {
   "cell_type": "code",
   "execution_count": null,
   "id": "46293445-f0f5-4c14-8a35-54d59e63d71b",
   "metadata": {},
   "outputs": [],
   "source": [
    "(df == 0).sum()"
   ]
  },
  {
   "cell_type": "code",
   "execution_count": null,
   "id": "ca5259f5-018f-4512-a978-cc59e0879bec",
   "metadata": {},
   "outputs": [],
   "source": [
    "df.info()"
   ]
  },
  {
   "cell_type": "code",
   "execution_count": null,
   "id": "e7c26f4d-cec6-42e3-b6ce-69f69d16c375",
   "metadata": {},
   "outputs": [],
   "source": [
    "df.head()"
   ]
  },
  {
   "cell_type": "code",
   "execution_count": null,
   "id": "a6d0b9db-a9fe-4b2b-bd55-1a1a65fb36e1",
   "metadata": {},
   "outputs": [],
   "source": [
    "df.dtypes"
   ]
  },
  {
   "cell_type": "code",
   "execution_count": null,
   "id": "54694f88-3eee-42b8-9567-a5665c589abe",
   "metadata": {},
   "outputs": [],
   "source": [
    "df.duplicated().sum()"
   ]
  },
  {
   "cell_type": "code",
   "execution_count": null,
   "id": "9aba64bf-e932-4c9d-b939-c80f72b5b4ea",
   "metadata": {},
   "outputs": [],
   "source": [
    "df.shape"
   ]
  },
  {
   "cell_type": "code",
   "execution_count": null,
   "id": "ad4b7708-66da-435a-8b25-bb9f26e13dc4",
   "metadata": {},
   "outputs": [],
   "source": [
    "import seaborn as sns\n",
    "import matplotlib.pyplot as plt   # <-- la bonne importation\n",
    "\n",
    "sns.scatterplot(data=df, x='Pregnancies', y='Age')\n",
    "plt.show()\n",
    "\n",
    "sns.scatterplot(data=df, x='Pregnancies', y='Glucose')\n",
    "plt.show()"
   ]
  },
  {
   "cell_type": "code",
   "execution_count": null,
   "id": "8610b4f2-a990-4d3a-ae9c-dabe540cba68",
   "metadata": {},
   "outputs": [],
   "source": [
    "df.corr()"
   ]
  },
  {
   "cell_type": "code",
   "execution_count": null,
   "id": "3d3e0f93-c831-471a-b812-d0a66dc69c12",
   "metadata": {},
   "outputs": [],
   "source": [
    "corr_matrix  = df.corr()\n",
    "sns.heatmap(corr_matrix ,fmt=\".2f\",annot=True , cmap='viridis', linewidths=.5, cbar=True)"
   ]
  },
  {
   "cell_type": "code",
   "execution_count": null,
   "id": "1cffdd76-3b6f-4ab6-812a-1ad4db263d84",
   "metadata": {},
   "outputs": [],
   "source": [
    "import numpy as np\n",
    "import matplotlib.pyplot as plt\n",
    "from sklearn.model_selection import train_test_split\n",
    "from sklearn.neighbors import KNeighborsRegressor\n",
    "from sklearn.metrics import mean_squared_error\n",
    "\n",
    "X = df.drop(columns=\"DiabetesPedigreeFunction\")\n",
    "y = df['DiabetesPedigreeFunction']\n",
    "\n",
    "X_train, X_test, y_train, y_test = train_test_split(\n",
    "    X, y, test_size=0.3, random_state=42\n",
    ")\n",
    "\n",
    "k_range = range(1, 26)\n",
    "mse_values = []\n",
    "\n",
    "for k in k_range:\n",
    "    knn = KNeighborsRegressor(n_neighbors=k)\n",
    "    knn.fit(X_train, y_train)\n",
    "    y_pred = knn.predict(X_test)\n",
    "    mse = mean_squared_error(y_test, y_pred)\n",
    "    mse_values.append(mse)\n",
    "\n",
    "plt.figure(figsize=(12, 7))\n",
    "plt.plot(k_range, mse_values, color='blue', linestyle='dashed', marker='o',\n",
    "         markerfacecolor='red', markersize=10)\n",
    "plt.title('Mean Squared Error vs. K Value', fontsize=16)\n",
    "plt.xlabel('K (Number of Neighbors)', fontsize=12)\n",
    "plt.ylabel('Mean Squared Error (MSE)', fontsize=12)\n",
    "plt.grid(True)\n",
    "plt.show()\n",
    "\n",
    "optimal_k = k_range[np.argmin(mse_values)]\n",
    "print(f\"The optimal value for 'k' is: {optimal_k}\")"
   ]
  },
  {
   "cell_type": "code",
   "execution_count": null,
   "id": "c6375790-183e-4258-93c5-2d4cbcefad6d",
   "metadata": {},
   "outputs": [],
   "source": [
    "df.replace(0, np.nan, inplace=True)"
   ]
  },
  {
   "cell_type": "code",
   "execution_count": null,
   "id": "93fc2b5f",
   "metadata": {},
   "outputs": [],
   "source": [
    "df"
   ]
  },
  {
   "cell_type": "code",
   "execution_count": null,
   "id": "818965ed",
   "metadata": {},
   "outputs": [],
   "source": [
    "from sklearn.impute import KNNImputer\n",
    "imputer  = KNNImputer(n_neighbors=12 )\n",
    "new_df = imputer.fit_transform(df)\n",
    "new_df = pd.DataFrame(new_df, columns=df.columns)\n",
    "\n",
    "new_df"
   ]
  },
  {
   "cell_type": "code",
   "execution_count": null,
   "id": "ffcd9e01",
   "metadata": {},
   "outputs": [],
   "source": [
    "colums_plot = new_df.drop(columns= \"DiabetesPedigreeFunction\").columns\n",
    "colums_plot\n",
    "\n",
    "for column in colums_plot:\n",
    "    plt.figure(figsize=(8 , 5))\n",
    "    plt.title(f'the {column} plot  ')\n",
    "    sns.boxplot(x = new_df[column])\n",
    "    plt.grid(True)\n",
    "    plt.show()\n",
    "\n",
    "# outliers\n",
    "import numpy as np\n",
    "from scipy import stats\n",
    "\n",
    "cleaned_df = new_df.copy()\n",
    "\n",
    "# apply log transformation \n",
    "for column in colums_plot:\n",
    "    if stats.skew(cleaned_df[column]) > 1:\n",
    "        min_val = cleaned_df[column].min()\n",
    "        if min_val <= 0:\n",
    "            cleaned_df[column] = np.log(cleaned_df[column] + abs(min_val) + 1)\n",
    "        else:\n",
    "            cleaned_df[column] = np.log(cleaned_df[column])\n",
    "\n",
    "#  extreme outliers\n",
    "for column in colums_plot:\n",
    "    Q1 = cleaned_df[column].quantile(0.25)\n",
    "    Q3 = cleaned_df[column].quantile(0.75)\n",
    "    IQR = Q3 - Q1\n",
    "    lower_bound = Q1 - 3 * IQR\n",
    "    upper_bound = Q3 + 3 * IQR\n",
    "    cleaned_df = cleaned_df[(cleaned_df[column] >= lower_bound) & (cleaned_df[column] <= upper_bound)]\n",
    "\n",
    "print(f\"Dataset cleaned: {len(new_df)} -> {len(cleaned_df)} rows\")"
   ]
  },
  {
   "cell_type": "code",
   "execution_count": null,
   "id": "1fdc31d2",
   "metadata": {},
   "outputs": [],
   "source": [
    "# Show cleaned dataset boxplots\n",
    "for column in colums_plot:\n",
    "    plt.figure(figsize=(8, 5))\n",
    "    plt.title(f'Cleaned {column} plot')\n",
    "    sns.boxplot(x=cleaned_df[column])\n",
    "    plt.grid(True)\n",
    "    plt.show()\n"
   ]
  },
  {
   "cell_type": "code",
   "execution_count": null,
   "id": "cd265641",
   "metadata": {},
   "outputs": [],
   "source": [
    "\n"
   ]
  },
  {
   "cell_type": "code",
   "execution_count": null,
   "id": "43762ed8",
   "metadata": {},
   "outputs": [],
   "source": [
    "from scipy import stats\n",
    "array = []\n",
    "for column in colums_plot:\n",
    "    array.append(stats.zscore(cleaned_df[column]))\n",
    "array\n",
    "pd.DataFrame(array)"
   ]
  },
  {
   "cell_type": "code",
   "execution_count": null,
   "id": "f3dbea32",
   "metadata": {},
   "outputs": [],
   "source": [
    "from sklearn.preprocessing import StandardScaler\n",
    "import pandas as pd\n",
    "\n",
    "numeric_df = cleaned_df.select_dtypes(include=['number'])\n",
    "scaler = StandardScaler()\n",
    "scaled_array = scaler.fit_transform(numeric_df)\n",
    "scaled_df = pd.DataFrame(scaled_array, columns=numeric_df.columns, index=numeric_df.index)\n",
    "scaled_df.head()"
   ]
  },
  {
   "cell_type": "code",
   "execution_count": null,
   "id": "653b1421",
   "metadata": {},
   "outputs": [],
   "source": [
    "from sklearn.metrics import silhouette_score\n",
    "from sklearn.cluster import KMeans\n",
    "\n",
    "X_cleaned = cleaned_df.drop(columns=['DiabetesPedigreeFunction'])\n",
    "\n",
    "k_range = range(2 , 20)\n",
    "silhouette_scores = []\n",
    "for k in k_range:\n",
    "    kmeans = KMeans(n_clusters = k, random_state = 42 , n_init = 'auto')\n",
    "    kmeans.fit(X_cleaned)\n",
    "    score = silhouette_score(X_cleaned , kmeans.labels_)\n",
    "    silhouette_scores.append(score)\n",
    "plt.figure(figsize=(10, 6))\n",
    "plt.plot(k_range, silhouette_scores, marker='o')\n",
    "plt.title('Silhouette Score vs. Number of Clusters (k)')\n",
    "plt.xlabel('k')\n",
    "plt.ylabel('Average Silhouette Score')\n",
    "plt.grid(True)\n",
    "plt.show()"
   ]
  },
  {
   "cell_type": "code",
   "execution_count": null,
   "id": "8d3ef92d",
   "metadata": {},
   "outputs": [],
   "source": [
    "optimal_k = k_range[silhouette_scores.index(max(silhouette_scores))]\n",
    "optimal_k"
   ]
  },
  {
   "cell_type": "code",
   "execution_count": null,
   "id": "b00078df",
   "metadata": {},
   "outputs": [],
   "source": [
    "k_range = range(1, 11) \n",
    "inertia_values = []\n",
    "\n",
    "for k in k_range:\n",
    "    kmeans = KMeans(n_clusters=k, random_state=42, n_init='auto')\n",
    "    kmeans.fit(X_cleaned)\n",
    "    inertia_values.append(kmeans.inertia_)\n",
    "\n",
    "plt.figure(figsize=(10, 6))\n",
    "plt.plot(k_range, inertia_values, marker='o')\n",
    "plt.title('Elbow Method For Optimal k')\n",
    "plt.xlabel('Number of Clusters (k)')\n",
    "plt.ylabel('Inertia (WCSS)')\n",
    "plt.grid(True)\n",
    "plt.xticks(k_range)\n",
    "plt.show()\n"
   ]
  },
  {
   "cell_type": "code",
   "execution_count": null,
   "id": "1b9a653b-d795-4d8d-9a08-7008f7297548",
   "metadata": {},
   "outputs": [],
   "source": [
    "scaled_df"
   ]
  },
  {
   "cell_type": "code",
   "execution_count": null,
   "id": "dd07e34b",
   "metadata": {},
   "outputs": [],
   "source": [
    "import pandas as pd\n",
    "from sklearn.cluster import KMeans\n",
    "\n",
    "optimal_k = 2\n",
    "\n",
    "X = scaled_df\n",
    "kmeans_final = KMeans(n_clusters=optimal_k, random_state=42, n_init='auto')\n",
    "kmeans_final.fit(X)\n",
    "\n",
    "cleaned_df['Cluster'] = kmeans_final.labels_\n",
    "\n",
    "print(cleaned_df.head())\n",
    "print(cleaned_df['Cluster'].value_counts())\n",
    "\n",
    "\n"
   ]
  },
  {
   "cell_type": "code",
   "execution_count": null,
   "id": "9ae23a9a",
   "metadata": {},
   "outputs": [],
   "source": [
    "\n",
    "sns.scatterplot(\n",
    "    data=cleaned_df,\n",
    "    x='BloodPressure',\n",
    "    y='Glucose',\n",
    "    hue='Cluster'\n",
    ")\n",
    "\n",
    "plt.title('Clustering Visualization')\n",
    "plt.show()"
   ]
  },
  {
   "cell_type": "code",
   "execution_count": null,
   "id": "cd857288-dca9-4b61-bde4-bc3115b1b72b",
   "metadata": {},
   "outputs": [],
   "source": [
    "from sklearn.decomposition import PCA\n",
    "pca = PCA(n_components=2)\n",
    "principal_components = pca.fit_transform(cleaned_df)\n",
    "pd.DataFrame(principal_components)\n"
   ]
  },
  {
   "cell_type": "code",
   "execution_count": null,
   "id": "fa8968bc-61b1-40c3-810f-60a996e9cfd4",
   "metadata": {},
   "outputs": [],
   "source": [
    "from sklearn.decomposition import PCA\n",
    "\n",
    "#  scaled data for PCA (same as clustering)\n",
    "pca = PCA(n_components = 2)\n",
    "pca_df = pca.fit_transform(scaled_df)\n",
    "pca_df = pd.DataFrame(data=pca_df,\n",
    "                      columns=['Principal1', 'Principal2'])\n",
    "pca_df['Cluster'] = cleaned_df['Cluster'].values\n",
    "\n",
    "pca_df\n",
    "\n"
   ]
  },
  {
   "cell_type": "code",
   "execution_count": null,
   "id": "595d2cc8-6855-4a2f-b9d5-b025a03ff8da",
   "metadata": {},
   "outputs": [],
   "source": [
    "plt.figure(figsize=(10, 6))\n",
    "sns.scatterplot(x='Principal1', y='Principal2', data=pca_df, hue='Cluster', alpha=1)\n",
    "plt.title('PCA Visualization of Clusters')\n",
    "plt.show()"
   ]
  },
  {
   "cell_type": "code",
   "execution_count": null,
   "id": "cd3ce0cf",
   "metadata": {},
   "outputs": [],
   "source": [
    "# Count observations per cluster\n",
    "print(cleaned_df['Cluster'].value_counts())\n",
    "\n",
    "# Calculate cluster means\n",
    "cluster_means = cleaned_df.groupby('Cluster')[['Glucose', 'BMI', 'DiabetesPedigreeFunction']].mean()\n",
    "print(cluster_means)\n",
    "\n",
    "\n",
    "cleaned_df['risk_category'] = cleaned_df['Cluster']\n",
    "\n"
   ]
  },
  {
   "cell_type": "code",
   "execution_count": null,
   "id": "60c0441e",
   "metadata": {},
   "outputs": [],
   "source": [
    "\n",
    "sns.scatterplot(x='Principal1', y='Principal2', data=pca_df, hue=cleaned_df['risk_category'])\n",
    "plt.title('Risk Categories')\n",
    "plt.show()\n"
   ]
  },
  {
   "cell_type": "code",
   "execution_count": null,
   "id": "58611052-eb95-48e4-9e56-f731c0977bfa",
   "metadata": {},
   "outputs": [],
   "source": [
    "moyens = pca_df.groupby('Cluster')[['Principal1', 'Principal2']].mean()\n",
    "moyens"
   ]
  },
  {
   "cell_type": "code",
   "execution_count": null,
   "id": "5d325939",
   "metadata": {},
   "outputs": [],
   "source": [
    "import numpy as np\n",
    "from sklearn.model_selection import train_test_split\n",
    "from sklearn.metrics import accuracy_score, classification_report\n",
    "# Importations des modèles\n",
    "from sklearn.ensemble import RandomForestClassifier\n",
    "from sklearn.tree import DecisionTreeClassifier\n",
    "from sklearn.svm import SVC\n",
    "from sklearn.linear_model import LogisticRegression\n",
    "from sklearn.ensemble import GradientBoostingClassifier\n",
    "from xgboost import XGBClassifier"
   ]
  },
  {
   "cell_type": "code",
   "execution_count": null,
   "id": "5199d63d",
   "metadata": {},
   "outputs": [],
   "source": [
    "\n",
    "\n",
    "models = {\n",
    "    \"Régression Logistique\": LogisticRegression(max_iter=1000, random_state=42),\n",
    "    \"Decision Tree\": DecisionTreeClassifier(random_state=42),\n",
    "    \"Random Forest\": RandomForestClassifier(random_state=42),\n",
    "    \"SVM (Support Vector Machine)\": SVC(random_state=42),\n",
    "    \"Gradient Boosting\": GradientBoostingClassifier(random_state=42),\n",
    "    \"XGBoost (XGB)\": XGBClassifier(use_label_encoder=False, eval_metric='logloss', random_state=42)\n",
    "}\n",
    "\n",
    "results = {}\n",
    "\n",
    "\n",
    "for name, model in models.items():\n",
    "    print(f\"training de : {name}...\")\n",
    "    \n",
    "\n",
    "    model.fit(X_train, y_train)\n",
    "    \n",
    "\n",
    "    y_pred = model.predict(X_test)\n",
    "\n",
    "\n",
    "    accuracy = accuracy_score(y_test, y_pred)\n",
    "    \n",
    "\n",
    "    results[name] = {\n",
    "        \"Modèle\": model,\n",
    "        \"Précision (Accuracy)\": accuracy,\n",
    "        \"Rapport de Classification\": classification_report(y_test, y_pred, output_dict=True)\n",
    "    }\n",
    "    \n",
    "    print(f\"{name} terminé. Précision : {accuracy:.4f}\\n\")\n"
   ]
  },
  {
   "cell_type": "code",
   "execution_count": null,
   "id": "fe573f81",
   "metadata": {},
   "outputs": [],
   "source": [
    "\n",
    "for name, res in results.items():\n",
    "    print(f\"\\n--- {name} ---\")\n",
    "    print(f\"Précision (Accuracy) : {res['Précision (Accuracy)']:.4f}\")\n",
    "    \n",
    "   \n",
    "    report = res['Rapport de Classification']\n",
    "    \n",
    "\n",
    "    if '1' in report:\n",
    "        print(f\"  Rappel (Recall) Classe 1 : {report['1']['recall']:.4f}\")\n",
    "        print(f\"  F1-Score Classe 1 : {report['1']['f1-score']:.4f}\")\n",
    "    else:\n",
    "        # Afficher la métrique macro-average ou weighted-average comme alternative\n",
    "        print(f\"  F1-Score (Moyenne pondérée) : {report['weighted avg']['f1-score']:.4f}\")\n",
    "        \n"
   ]
  },
  {
   "cell_type": "code",
   "execution_count": null,
   "id": "2fb3f79a",
   "metadata": {},
   "outputs": [],
   "source": []
  },
  {
   "cell_type": "code",
   "execution_count": null,
   "id": "0b59e9ac-572c-4c8b-9e11-bc123ac445a2",
   "metadata": {},
   "outputs": [],
   "source": []
  },
  {
   "cell_type": "code",
   "execution_count": null,
   "id": "48210f63-6866-457b-a0e9-b7247d018c07",
   "metadata": {},
   "outputs": [],
   "source": []
  },
  {
   "cell_type": "code",
   "execution_count": null,
   "id": "7871c969-c6c6-4f5c-9e56-033f2017949e",
   "metadata": {},
   "outputs": [],
   "source": []
  },
  {
   "cell_type": "code",
   "execution_count": null,
   "id": "b9ca9250-04d8-4b86-9f38-efc5c56cedf8",
   "metadata": {},
   "outputs": [],
   "source": []
  },
  {
   "cell_type": "code",
   "execution_count": null,
   "id": "bbe59e8d-43eb-4cba-bdc9-521bda1276b9",
   "metadata": {},
   "outputs": [],
   "source": []
  },
  {
   "cell_type": "code",
   "execution_count": null,
   "id": "0da9e26c-6ef0-4278-98c4-5ccfffcc700a",
   "metadata": {},
   "outputs": [],
   "source": []
  }
 ],
 "metadata": {
  "kernelspec": {
   "display_name": "Python 3",
   "language": "python",
   "name": "python3"
  },
  "language_info": {
   "codemirror_mode": {
    "name": "ipython",
    "version": 3
   },
   "file_extension": ".py",
   "mimetype": "text/x-python",
   "name": "python",
   "nbconvert_exporter": "python",
   "pygments_lexer": "ipython3",
   "version": "3.12.3"
  }
 },
 "nbformat": 4,
 "nbformat_minor": 5
}
